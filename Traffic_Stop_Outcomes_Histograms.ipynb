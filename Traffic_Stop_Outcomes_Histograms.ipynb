{
 "cells": [
  {
   "cell_type": "code",
   "execution_count": 1,
   "metadata": {},
   "outputs": [],
   "source": [
    "import matplotlib.pyplot as plt\n",
    "import numpy as np\n",
    "import pandas as pd\n",
    "import math\n",
    "import datetime as dt"
   ]
  },
  {
   "cell_type": "code",
   "execution_count": 2,
   "metadata": {},
   "outputs": [],
   "source": [
    "#Upload the data\n",
    "onetwo_df = pd.read_csv('ca_san_francisco_2020_04_01.csv', low_memory = False)"
   ]
  },
  {
   "cell_type": "code",
   "execution_count": 3,
   "metadata": {},
   "outputs": [],
   "source": [
    "#Find the maximum and minimum dates (analysis)\n",
    "dates = [dt.datetime.strptime(date,\"%Y-%m-%d\").date() for date in onetwo_df['date']]"
   ]
  },
  {
   "cell_type": "code",
   "execution_count": 5,
   "metadata": {},
   "outputs": [],
   "source": [
    "##Data organization for % of searches per race as a fraction of total searches\n",
    "df = onetwo_df.groupby(['subject_race', 'search_conducted']).count()\n",
    "df_search = df[['arrest_made', 'citation_issued', 'warning_issued']].copy()\n",
    "true_search = df_search.query('search_conducted == True').copy()\n",
    "\n",
    "total_search = sum(true_search['arrest_made'])\n",
    "test = true_search.loc['asian/pacific islander']['arrest_made']\n",
    "true_search['% searched'] = true_search['arrest_made']/total_search\n",
    "\n",
    "\n",
    "search_df = true_search[['arrest_made']].copy()"
   ]
  },
  {
   "cell_type": "code",
   "execution_count": 7,
   "metadata": {},
   "outputs": [],
   "source": [
    "##Data organization for % of stops per race as a fraction of total stops\n",
    "df_stops = onetwo_df.groupby('subject_race').count()\n",
    "total_stops = sum(df_stops['date'])\n",
    "df_stops['% stopped'] = df_stops['date'] / total_stops"
   ]
  },
  {
   "cell_type": "code",
   "execution_count": 11,
   "metadata": {},
   "outputs": [],
   "source": [
    "#Create a dictionary that shows the counts of traffic stops by citations, warnings, and arrests (searches were included later in the code)\n",
    "    #Further categorize by demographic\n",
    "counts = []\n",
    "\n",
    "outcome = onetwo_df['outcome']\n",
    "race = onetwo_df[ 'subject_race']\n",
    "sex = onetwo_df['subject_sex']\n",
    "district = onetwo_df['district']\n",
    "\n",
    "data = onetwo_df['outcome'].value_counts()\n",
    "categories = data.index\n",
    "\n",
    "race.value_counts()['white']\n",
    "#grab the citations and the race:\n",
    "citations = onetwo_df[onetwo_df['outcome'] == 'citation']\n",
    "warning = onetwo_df[onetwo_df['outcome'] == 'warning']\n",
    "arrest = onetwo_df[onetwo_df['outcome'] == 'arrest']\n",
    "\n",
    "\n",
    "ccounts = []\n",
    "wcounts = []\n",
    "acounts = []\n",
    "outcomedict = {}\n",
    "#parses the total counts of stop outcomes by race\n",
    "stopcategories = ['warning', 'citation', 'arrest']\n",
    "for cat in stopcategories:\n",
    "    outcomedict[cat] = [len(race[(outcome == cat) & (race == 'white')]),\n",
    "                     len(race[(outcome == cat) & (race == 'asian/pacific islander')]),\n",
    "                     len(race[(outcome == cat) & (race == 'black')]),\n",
    "                     len(race[(outcome == cat) & (race == 'hispanic')]) \n",
    "                    ]\n",
    "    \n",
    "racedict = {}\n",
    "\n",
    "\n",
    "for cat in onetwo_df['subject_race'].value_counts().index:\n",
    "    racedict[cat] = [len(race[(outcome == 'citation') & (race == cat)]),\n",
    "                     len(race[(outcome == 'warning') & (race == cat)]),\n",
    "                     len(race[(outcome == 'arrest') & (race == cat)])]"
   ]
  },
  {
   "cell_type": "code",
   "execution_count": 12,
   "metadata": {},
   "outputs": [],
   "source": [
    "#x axis tick labels\n",
    "xlabels = ['white', 'asian/pacific islander', 'black', 'hispanic']"
   ]
  },
  {
   "cell_type": "code",
   "execution_count": 13,
   "metadata": {},
   "outputs": [
    {
     "data": {
      "text/plain": [
       "[81438, 22830, 910]"
      ]
     },
     "execution_count": 13,
     "metadata": {},
     "output_type": "execute_result"
    }
   ],
   "source": [
    "#Take the relevant count information created earlier and\n",
    "for i in xlabels:\n",
    "    test = int(search_df.loc[i].values)\n",
    "    racedict[i].append(test)\n",
    "\n",
    "#Get rid of the unnecessary \"other\" category\n",
    "racedict.pop('other')"
   ]
  },
  {
   "cell_type": "code",
   "execution_count": 14,
   "metadata": {},
   "outputs": [],
   "source": [
    "stoplabels = ['citation','warning', 'search', 'arrest']\n",
    "\n",
    "#switches the values of search and arrest so that the graph looks pretty\n",
    "for i in racedict.keys():\n",
    "    temp = racedict[i][3]\n",
    "    racedict[i][3] = racedict[i][2]\n",
    "    racedict[i][2] = temp"
   ]
  },
  {
   "cell_type": "code",
   "execution_count": 27,
   "metadata": {},
   "outputs": [
    {
     "data": {
      "image/png": "[encoded data removed]",
      "text/plain": [
       "<Figure size 1440x720 with 2 Axes>"
      ]
     },
     "metadata": {
      "needs_background": "light"
     },
     "output_type": "display_data"
    }
   ],
   "source": [
    "#Let's make these histogram plots!\n",
    "fig, ax = plt.subplots(ncols = 2 , figsize=(20,10))\n",
    "\n",
    "\n",
    "#Counts histogram\n",
    "ax[0].spines['top'].set_visible(False) \n",
    "ax[0].spines['right'].set_visible(False) \n",
    "ax[0].spines['left'].set_linewidth(False) \n",
    "ax[0].spines['bottom'].set_linewidth(.5)\n",
    "\n",
    "order = [0, 1, 2, 4, 3]\n",
    "colors = ['#3FBDCB','#4580A9', '#B6324F','#CEADA4']\n",
    "for race in range(len(xlabels)):\n",
    "    barcontainers = ax[0].bar(3*np.arange(0, 4) -.75 +race/2, racedict[xlabels[race]], width = 0.5, label = xlabels[race], color = colors[race])\n",
    "    for rect in barcontainers.patches: \n",
    "        rect.set_linewidth(0.5) \n",
    "        rect.set_edgecolor('grey')\n",
    "ax[0].set_xticks(3*np.arange(0,4))\n",
    "ax[0].set_xticklabels(stoplabels)\n",
    "ax[0].set_yticklabels([None, 50, 100, 150, 200, 250])\n",
    "ax[0].set_ylabel('(Thousands)', rotation = 0)\n",
    "ax[0].yaxis.set_label_coords(0, .98)\n",
    "\n",
    "\n",
    "#peeps = {'white': '#F0F9E8', 'asian/pacific islander':'#BAE4BC', 'black': '#7BCCC4', 'hispanic':'#2B8CBE'}\n",
    "#color_white =    '#F0F9E8' ---> ‘#3FBDCB’\n",
    "#color_black =    '#7BCCC4' ---> '#B6324F’\n",
    "#color_hispanic = '#2B8CBE' ---> ‘#CEADA4’\n",
    "#color_asian =    '#BAE4BC' ---> ‘#4580A9’\n",
    "\n",
    "\n",
    "propdict = racedict.copy()\n",
    "propdict = {key:[i/(total[key])/9.5 for i in value] for key, value in propdict.items()}\n",
    "#propdict2 = {key: [i/9.5 for i in value] for key, value in propdict.items()}\n",
    "\n",
    "ax[1].spines['top'].set_visible(False) \n",
    "ax[1].spines['right'].set_visible(False) \n",
    "ax[1].spines['left'].set_linewidth(False) \n",
    "ax[1].spines['bottom'].set_linewidth(.5)\n",
    "\n",
    "colors = ['#B6324F', '#3FBDCB', '#CEADA4', '#4580A9']\n",
    "order = ['black', 'white', 'hispanic', 'asian/pacific islander']\n",
    "for race in range(len(xlabels)):\n",
    "    barcontainers = ax[1].bar(3*np.arange(0, 4) -.75 +race/2, propdict[order[race]], width = 0.5, label = order[race], color = colors[race])\n",
    "    for rect in barcontainers.patches: \n",
    "        rect.set_linewidth(0.5) \n",
    "        rect.set_edgecolor('grey')\n",
    "ax[1].set_ylabel('(% of demographic/yr)', rotation = 0)\n",
    "ax[1].set_yticklabels([None, 2.5, 5, 7.5, 10, 12.5, 15, 17.5])\n",
    "ax[1].yaxis.set_label_coords(.03, .97)\n",
    "ax[1].set_xticks(3*np.arange(0,4))\n",
    "ax[1].set_xticklabels(stoplabels)\n",
    "ax[1].legend()\n",
    "\n",
    "plt.title('Traffic Stop Outcomes (01/2007-07/2016)', x = -0.71, y = 1.03, weight = 'bold', fontsize = 24)\n",
    "#plt.title('Traffic stop outcome rates as % in San Francisco (1/2007-7/2016)', x = 0.5, y = 1.02, weight = 'bold', fontsize=17)\n",
    "#plt.show()\n",
    "\n",
    "\n",
    "\n",
    "plt.savefig('traffic_stop_outcomes.png')"
   ]
  },
  {
   "cell_type": "code",
   "execution_count": null,
   "metadata": {},
   "outputs": [],
   "source": []
  }
 ],
 "metadata": {
  "kernelspec": {
   "display_name": "Python 3",
   "language": "python",
   "name": "python3"
  },
  "language_info": {
   "codemirror_mode": {
    "name": "ipython",
    "version": 3
   },
   "file_extension": ".py",
   "mimetype": "text/x-python",
   "name": "python",
   "nbconvert_exporter": "python",
   "pygments_lexer": "ipython3",
   "version": "3.8.3"
  }
 },
 "nbformat": 4,
 "nbformat_minor": 4
}
